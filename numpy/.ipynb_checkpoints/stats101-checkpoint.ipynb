{
 "cells": [
  {
   "cell_type": "markdown",
   "metadata": {},
   "source": [
    "#### Basic vector manipulation"
   ]
  },
  {
   "cell_type": "code",
   "execution_count": 18,
   "metadata": {},
   "outputs": [
    {
     "name": "stdout",
     "output_type": "stream",
     "text": [
      "[10 17 24 31 38 45]\n"
     ]
    }
   ],
   "source": [
    "import numpy as np\n",
    "arr_a = [2,3,4,5,6]\n",
    "arr_b = [7,8,9,10,11]\n",
    "\n",
    "arr = np.array([arr_a,arr_b])\n",
    "\n",
    "arr.shape #(2,5) i.e 2 rows and 5 columns\n",
    "\n",
    "arr.reshape(5,2) #change to 5 rows and 2 columns\n",
    "\n",
    "arr2 = np.arange(10, 50, 7) # start at 10 increment by 7 and do not exceed the number 50\n",
    "\n",
    "print(arr2)\n"
   ]
  },
  {
   "cell_type": "code",
   "execution_count": null,
   "metadata": {},
   "outputs": [],
   "source": []
  }
 ],
 "metadata": {
  "kernelspec": {
   "display_name": "Python 3",
   "language": "python",
   "name": "python3"
  },
  "language_info": {
   "codemirror_mode": {
    "name": "ipython",
    "version": 3
   },
   "file_extension": ".py",
   "mimetype": "text/x-python",
   "name": "python",
   "nbconvert_exporter": "python",
   "pygments_lexer": "ipython3",
   "version": "3.7.1"
  }
 },
 "nbformat": 4,
 "nbformat_minor": 2
}
