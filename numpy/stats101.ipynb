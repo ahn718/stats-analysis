{
 "cells": [
  {
   "cell_type": "markdown",
   "metadata": {},
   "source": [
    "#### Basic vector manipulation"
   ]
  },
  {
   "cell_type": "code",
   "execution_count": 112,
   "metadata": {},
   "outputs": [
    {
     "data": {
      "text/plain": [
       "array([  0,  14,  30,  48,  68,  90, 114, 140, 168, 198, 230, 264, 300,\n",
       "       338, 378, 420, 464])"
      ]
     },
     "execution_count": 112,
     "metadata": {},
     "output_type": "execute_result"
    }
   ],
   "source": [
    "import numpy as np\n",
    "arr_a = [2,3,4,5,6]\n",
    "arr_b = [7,8,9,10,11]\n",
    "\n",
    "arr = np.array([arr_a,arr_b])\n",
    "\n",
    "arr.shape #(2,5) i.e 2 rows and 5 columns\n",
    "\n",
    "arr.reshape(5,2) #change to 5 rows and 2 columns\n",
    "\n",
    "arr2 = np.arange(10, 50, 7) # start at 10 increment by 7 and do not exceed the number 50\n",
    "arr2.ndim # get dimension of array such 1, 2 or 3 dimensional etc\n",
    "\n",
    "arr3 = arr2.reshape(3,2) # n.b to reshape the parameters e.g 2,3 must multiply to be exact as total array values\n",
    "\n",
    "# example of reshaping array\n",
    "narr = np.arange(54)\n",
    "narr.reshape(3,6,3)\n",
    "\n",
    "# zeros and ones used for filling data\n",
    "zero = np.zeros(10, dtype=int) # also np.zeros(10)- could be np.ones() \n",
    "zero.reshape(2,5)\n",
    "\n",
    "# convert list to array to be able to use for vector operations & tuples can also be converted \n",
    "x = [1,2,3,4,5]\n",
    "y = np.asarray(x)\n",
    "y*y #[1,4,9,16,25]\n",
    "\n",
    "\n",
    "# index and slice\n",
    "\n",
    "arr_n = np.arange(24)\n",
    "arr_n[3:-5:1] # start at 3 end at 5 but last eg 20 is 5th but last of 25\n",
    "\n",
    "arr_m = arr_n.reshape(4,6)\n",
    "\n",
    "arr_m\n",
    "arr_m[...,2] # return only all rows on 3rd column & ... here = row, 2 = column & this puts values as single array\n",
    "arr_m[3,...] # return only all columns on 4th row\n",
    "arr_m[...,2:] # return all rows only on 3rd colum to last column\n",
    "arr_m[2:,...] # return all columns on 3rd row to last row\n",
    "\n",
    "# indexing multidimensional arrays\n",
    "arr_o = np.arange(30)\n",
    "arr_o.reshape(3,5,2)\n",
    "\n",
    "arr_o[arr_o[arr_o > 12]] * arr_o[arr_o < 17] # take arrays greater than 12 and multiply by arrays less that 17 & note that both array index values must be same\n",
    "\n",
    "from collections import Counter\n",
    "cnt = Counter()\n",
    "colors = ['red', 'blue', 'red', 'green', 'blue', 'red']\n",
    "for word in colors:\n",
    "    cnt[word] += 1\n",
    "    print(cnt[word])\n",
    "print(cnt)\n",
    "\n",
    "\n"
   ]
  },
  {
   "cell_type": "code",
   "execution_count": 8,
   "metadata": {},
   "outputs": [
    {
     "name": "stdout",
     "output_type": "stream",
     "text": [
      "Using matplotlib backend: Qt5Agg\n"
     ]
    },
    {
     "data": {
      "text/html": [
       "<div>\n",
       "<style scoped>\n",
       "    .dataframe tbody tr th:only-of-type {\n",
       "        vertical-align: middle;\n",
       "    }\n",
       "\n",
       "    .dataframe tbody tr th {\n",
       "        vertical-align: top;\n",
       "    }\n",
       "\n",
       "    .dataframe thead th {\n",
       "        text-align: right;\n",
       "    }\n",
       "</style>\n",
       "<table border=\"1\" class=\"dataframe\">\n",
       "  <thead>\n",
       "    <tr style=\"text-align: right;\">\n",
       "      <th></th>\n",
       "      <th>user_id</th>\n",
       "      <th>age</th>\n",
       "      <th>drinks_coffee</th>\n",
       "      <th>height</th>\n",
       "    </tr>\n",
       "  </thead>\n",
       "  <tbody>\n",
       "    <tr>\n",
       "      <th>2492</th>\n",
       "      <td>7690</td>\n",
       "      <td>&lt;21</td>\n",
       "      <td>False</td>\n",
       "      <td>67.397965</td>\n",
       "    </tr>\n",
       "    <tr>\n",
       "      <th>2238</th>\n",
       "      <td>6832</td>\n",
       "      <td>&lt;21</td>\n",
       "      <td>False</td>\n",
       "      <td>70.790166</td>\n",
       "    </tr>\n",
       "    <tr>\n",
       "      <th>2001</th>\n",
       "      <td>3447</td>\n",
       "      <td>&lt;21</td>\n",
       "      <td>False</td>\n",
       "      <td>66.832329</td>\n",
       "    </tr>\n",
       "    <tr>\n",
       "      <th>1170</th>\n",
       "      <td>2236</td>\n",
       "      <td>&gt;=21</td>\n",
       "      <td>True</td>\n",
       "      <td>68.254976</td>\n",
       "    </tr>\n",
       "    <tr>\n",
       "      <th>1116</th>\n",
       "      <td>6479</td>\n",
       "      <td>&lt;21</td>\n",
       "      <td>False</td>\n",
       "      <td>68.685662</td>\n",
       "    </tr>\n",
       "  </tbody>\n",
       "</table>\n",
       "</div>"
      ],
      "text/plain": [
       "      user_id   age  drinks_coffee     height\n",
       "2492     7690   <21          False  67.397965\n",
       "2238     6832   <21          False  70.790166\n",
       "2001     3447   <21          False  66.832329\n",
       "1170     2236  >=21           True  68.254976\n",
       "1116     6479   <21          False  68.685662"
      ]
     },
     "execution_count": 8,
     "metadata": {},
     "output_type": "execute_result"
    }
   ],
   "source": [
    "import numpy as np\n",
    "import pandas as pd\n",
    "import matplotlib.pyplot as plt\n",
    "%matplotlib\n",
    "\n",
    "coffee_full = pd.read_csv('coffee_red.csv')\n",
    "\n",
    "# get a sample of coffee_full and label coffee_red(for reduced)\n",
    "coffee_red = coffee_full.sample(200)\n",
    "coffee_red.tail()"
   ]
  },
  {
   "cell_type": "code",
   "execution_count": 10,
   "metadata": {},
   "outputs": [
    {
     "data": {
      "text/plain": [
       "0.54"
      ]
     },
     "execution_count": 10,
     "metadata": {},
     "output_type": "execute_result"
    }
   ],
   "source": [
    "coffee_red.query(co)"
   ]
  },
  {
   "cell_type": "code",
   "execution_count": null,
   "metadata": {},
   "outputs": [],
   "source": []
  }
 ],
 "metadata": {
  "kernelspec": {
   "display_name": "Python 3",
   "language": "python",
   "name": "python3"
  },
  "language_info": {
   "codemirror_mode": {
    "name": "ipython",
    "version": 3
   },
   "file_extension": ".py",
   "mimetype": "text/x-python",
   "name": "python",
   "nbconvert_exporter": "python",
   "pygments_lexer": "ipython3",
   "version": "3.7.1"
  }
 },
 "nbformat": 4,
 "nbformat_minor": 2
}
