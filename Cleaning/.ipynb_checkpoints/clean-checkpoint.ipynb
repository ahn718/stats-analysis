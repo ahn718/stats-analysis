{
 "cells": [
  {
   "cell_type": "code",
   "execution_count": null,
   "metadata": {},
   "outputs": [],
   "source": [
    "# Copy the data first before cleaning\n",
    "df.clean= df.copy()\n",
    "\n",
    "# remove 2 words before text e.g \"bbdog\"\n",
    "df['Animal'] = df['Animal'].str[2:]\n",
    "\n",
    "# replace ! with . \n",
    "df['Body Weight (kg)'] = df['Body Weight (kg)'].str.replace('!', '.')\n",
    "\n",
    "# convert zip code in float form to int and only 5 digits\n",
    "patients_clean.zip_code = patients_clean.zip_code.astype(str).str[:-2].str.pad(5, fillchar='0')"
   ]
  }
 ],
 "metadata": {
  "kernelspec": {
   "display_name": "Python 3",
   "language": "python",
   "name": "python3"
  },
  "language_info": {
   "codemirror_mode": {
    "name": "ipython",
    "version": 3
   },
   "file_extension": ".py",
   "mimetype": "text/x-python",
   "name": "python",
   "nbconvert_exporter": "python",
   "pygments_lexer": "ipython3",
   "version": "3.7.1"
  }
 },
 "nbformat": 4,
 "nbformat_minor": 2
}
